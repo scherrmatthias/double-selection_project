{
 "cells": [
  {
   "cell_type": "code",
   "execution_count": 4,
   "id": "8fca3af1",
   "metadata": {},
   "outputs": [
    {
     "data": {
      "text/plain": [
       "\n",
       "Call:\n",
       "lm(formula = y ~ d + x_1 + x_2)\n",
       "\n",
       "Residuals:\n",
       "     Min       1Q   Median       3Q      Max \n",
       "-18.6767  -3.3703   0.1109   3.1463  16.0637 \n",
       "\n",
       "Coefficients:\n",
       "            Estimate Std. Error t value Pr(>|t|)    \n",
       "(Intercept) -0.41282    1.83951  -0.224    0.822    \n",
       "d            0.31048    0.04395   7.065 3.01e-12 ***\n",
       "x_1          0.19790    0.02235   8.854  < 2e-16 ***\n",
       "x_2          0.11167    0.02834   3.940 8.71e-05 ***\n",
       "---\n",
       "Signif. codes:  0 ‘***’ 0.001 ‘**’ 0.01 ‘*’ 0.05 ‘.’ 0.1 ‘ ’ 1\n",
       "\n",
       "Residual standard error: 5.121 on 996 degrees of freedom\n",
       "Multiple R-squared:  0.3033,\tAdjusted R-squared:  0.3012 \n",
       "F-statistic: 144.5 on 3 and 996 DF,  p-value: < 2.2e-16\n"
      ]
     },
     "metadata": {},
     "output_type": "display_data"
    }
   ],
   "source": [
    "set.seed(24)\n",
    "#This function allows to use randomly generated numbers, which remain consistent througout our usage. \n",
    "n<-1000\n",
    "#This ist the number of observations. \n",
    "x_1<-rnorm(n,100,10)\n",
    "#We generate 1000 observations, that are normally distributed. x_1 could be iq. \n",
    "d<-0.35*x_1+runif(n,10,23)\n",
    "#d indicates our treatment. It is correlated to x_1 and could be the hours studied for a test.\n",
    "x_2<-runif(n,10,30)\n",
    "#x2 is by construction not correlated to any explaining variable. It could be the number of students in a class.\n",
    "y<-0.3*d+0.2*x_1+0.1*x_2+rnorm(1000,0,5)\n",
    "#y is our regressand. It depends linearly on d, x_1 and x_2 and normally distributed error term. It could be the number of points a student has reached in a state-wide test.\n",
    "regression2_1<-lm(y~d+x_1+x_2)\n",
    "summary(regression2_1)"
   ]
  },
  {
   "cell_type": "code",
   "execution_count": 7,
   "id": "d2f6741a",
   "metadata": {},
   "outputs": [
    {
     "data": {
      "text/plain": [
       "\n",
       "Call:\n",
       "lm(formula = y ~ d + x_2)\n",
       "\n",
       "Residuals:\n",
       "     Min       1Q   Median       3Q      Max \n",
       "-18.6468  -3.6070   0.2378   3.3168  18.2441 \n",
       "\n",
       "Coefficients:\n",
       "            Estimate Std. Error t value Pr(>|t|)    \n",
       "(Intercept)  5.29170    1.78859   2.959  0.00316 ** \n",
       "d            0.58083    0.03281  17.704  < 2e-16 ***\n",
       "x_2          0.11890    0.02941   4.043 5.69e-05 ***\n",
       "---\n",
       "Signif. codes:  0 ‘***’ 0.001 ‘**’ 0.01 ‘*’ 0.05 ‘.’ 0.1 ‘ ’ 1\n",
       "\n",
       "Residual standard error: 5.316 on 997 degrees of freedom\n",
       "Multiple R-squared:  0.2485,\tAdjusted R-squared:  0.247 \n",
       "F-statistic: 164.8 on 2 and 997 DF,  p-value: < 2.2e-16\n"
      ]
     },
     "metadata": {},
     "output_type": "display_data"
    }
   ],
   "source": [
    "#regression2_1 encompasses all of the three true explaining variables. \n",
    "regression2_2<-lm(y~d+x_2)\n",
    "summary(regression2_2)"
   ]
  },
  {
   "cell_type": "code",
   "execution_count": 8,
   "id": "5b7709d3",
   "metadata": {},
   "outputs": [
    {
     "data": {
      "text/plain": [
       "\n",
       "Call:\n",
       "lm(formula = y ~ d + x_1)\n",
       "\n",
       "Residuals:\n",
       "     Min       1Q   Median       3Q      Max \n",
       "-18.7626  -3.3930   0.0043   3.1952  16.3716 \n",
       "\n",
       "Coefficients:\n",
       "            Estimate Std. Error t value Pr(>|t|)    \n",
       "(Intercept)  1.74734    1.76865   0.988    0.323    \n",
       "d            0.30689    0.04426   6.934 7.33e-12 ***\n",
       "x_1          0.20044    0.02251   8.906  < 2e-16 ***\n",
       "---\n",
       "Signif. codes:  0 ‘***’ 0.001 ‘**’ 0.01 ‘*’ 0.05 ‘.’ 0.1 ‘ ’ 1\n",
       "\n",
       "Residual standard error: 5.159 on 997 degrees of freedom\n",
       "Multiple R-squared:  0.2924,\tAdjusted R-squared:  0.291 \n",
       "F-statistic:   206 on 2 and 997 DF,  p-value: < 2.2e-16\n"
      ]
     },
     "metadata": {},
     "output_type": "display_data"
    }
   ],
   "source": [
    "#regression2_2 omits x_1, a variable highly correlated to d. \n",
    "regression2_3<-lm(y~d+x_1)\n",
    "summary(regression2_3)"
   ]
  },
  {
   "cell_type": "code",
   "execution_count": 9,
   "id": "2a9b6a6d",
   "metadata": {},
   "outputs": [
    {
     "data": {
      "text/html": [
       "-0.0010640802666898"
      ],
      "text/latex": [
       "-0.0010640802666898"
      ],
      "text/markdown": [
       "-0.0010640802666898"
      ],
      "text/plain": [
       "[1] -0.00106408"
      ]
     },
     "metadata": {},
     "output_type": "display_data"
    }
   ],
   "source": [
    "#regression2_3 does not include x_2, a variable, which is not correlated to d.\n",
    "cor(x_2,d)"
   ]
  }
 ],
 "metadata": {
  "kernelspec": {
   "display_name": "R",
   "language": "R",
   "name": "ir"
  },
  "language_info": {
   "codemirror_mode": "r",
   "file_extension": ".r",
   "mimetype": "text/x-r-source",
   "name": "R",
   "pygments_lexer": "r",
   "version": "4.1.0"
  }
 },
 "nbformat": 4,
 "nbformat_minor": 5
}
