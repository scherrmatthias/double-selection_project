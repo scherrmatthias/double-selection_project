{
 "cells": [
  {
   "cell_type": "markdown",
   "id": "1866725a",
   "metadata": {},
   "source": [
    "# 1. Introduction"
   ]
  },
  {
   "cell_type": "code",
   "execution_count": 12,
   "id": "5c4d89a7",
   "metadata": {},
   "outputs": [],
   "source": [
    "#See seminar paper"
   ]
  },
  {
   "cell_type": "markdown",
   "id": "ef7966ad",
   "metadata": {},
   "source": [
    "# 2. Worrisome Properties of High-Dimensional Data"
   ]
  },
  {
   "cell_type": "code",
   "execution_count": 13,
   "id": "84b8f5a6",
   "metadata": {},
   "outputs": [],
   "source": [
    "# Creating synthetic data"
   ]
  },
  {
   "cell_type": "code",
   "execution_count": 22,
   "id": "9401a0f5",
   "metadata": {
    "scrolled": false
   },
   "outputs": [],
   "source": [
    "#Our population\n",
    "set.seed(24) #This function allows to use randomly generated numbers, which remain consistent througout our usage. \n",
    "N<-1000000 #Number of elements in the population\n",
    "d<-c(rnorm(N,100,10))#d indicates our treatment\n",
    "x_1<-c(1:N) #x_1 is a covariate\n",
    "x_2<-rnorm(N,20,40)+17*d #x_2 is a covariat, which is strongly correlated with d\n",
    "y<-d+x_1+0.01*x_2+rnorm(N,1,0.8) #This is the true relationship\n"
   ]
  },
  {
   "cell_type": "code",
   "execution_count": 23,
   "id": "9677a76f",
   "metadata": {},
   "outputs": [],
   "source": [
    "#Our population is characterized by further explaining variables\n",
    "x_3<-c(5+runif(N,20,40)+7.3^0.47)\n",
    "x_4<-c(x_2*rexp(N,7))\n",
    "x_5<-c(rnorm(N,14,3))\n",
    "x_6<-c(rgamma(N,3)+17)\n",
    "x_7<-c(5+rweibull(N,4,1))\n",
    "x_8<-c(rnorm(N,73,17)+rgamma(N,6))\n",
    "x_9<-c(rweibull(N,0.4,0.8))\n",
    "x_10<-c(0.05*d+7-rgamma(N,7.4))\n",
    "x_11<-c(rpois(N,0.7)+0.5*x_3)\n",
    "x_12<-c(rnorm(N,22,18))\n",
    "x_13<-c(rpois(N,1)+rweibull(N,0.2))\n",
    "x_14<-c(rnorm(N,10,5)+runif(N,-3,+3))\n",
    "x_15<-c(x_3*x_7+rweibull(N,0.9))\n",
    "x_16<-c(rnorm(N,7,7))\n",
    "x_17<-c(66+rpois(N,5))\n",
    "x_18<-c(0.7*x_15+rgamma(N,17))\n",
    "x_19<-c(runif(N,-80,50))\n",
    "x_20<-c(rpois(N,0.03))\n",
    "x_21<-c(rpois(N,2))\n",
    "x_22<-c(x_5*x_6+runif(N,-3,3))\n",
    "x_23<-c(rweibull(N,0.59,20))\n",
    "x_24<-c(rnorm(N,5,2)+324-rpois(N,5))\n",
    "x_25<-c(x_2*0.1+rnorm(N,2,3)+x_7)\n",
    "x_26<-c(rcauchy(N,2)+7)\n",
    "x_27<-c(rcauchy(N,6)+rnorm(N,5)+x_19)\n",
    "x_28<-c(rcauchy(N,3)+rpois(N,3)+7)\n",
    "x_29<-c(rnorm(N,66,15)+x_15*x_16*0.02)\n",
    "x_30<-c(rweibull(N,4,1)+17-x_4*0.4)\n",
    "x_31<-c(rpois(N,7)+runif(N,3,5))"
   ]
  },
  {
   "cell_type": "code",
   "execution_count": 24,
   "id": "677f06a5",
   "metadata": {},
   "outputs": [],
   "source": [
    "#All variables of the population are saved in data frame \n",
    "data_frame<-data.frame(y,d,x_1,x_2,x_3,x_4,x_5,x_6,x_7,x_8,x_9,x_10,x_11,x_12,x_13,x_14,x_15,x_16,x_17,x_18,x_19,x_20,x_21,x_22,x_23,x_24,x_25,x_26,x_27,x_28,x_29,x_30,x_31)"
   ]
  },
  {
   "cell_type": "code",
   "execution_count": 17,
   "id": "c3963e01",
   "metadata": {},
   "outputs": [],
   "source": [
    "# Regression of the true model (using the whole population as sample)"
   ]
  },
  {
   "cell_type": "code",
   "execution_count": 18,
   "id": "868f730f",
   "metadata": {
    "scrolled": true
   },
   "outputs": [
    {
     "data": {
      "text/plain": [
       "\n",
       "Call:\n",
       "lm(formula = y ~ d + x_1 + x_2)\n",
       "\n",
       "Residuals:\n",
       "    Min      1Q  Median      3Q     Max \n",
       "-3.6589 -0.5386 -0.0007  0.5381  3.6828 \n",
       "\n",
       "Coefficients:\n",
       "             Estimate Std. Error   t value Pr(>|t|)    \n",
       "(Intercept) 1.006e+00  8.142e-03 1.236e+02   <2e-16 ***\n",
       "d           1.000e+00  3.482e-04 2.873e+03   <2e-16 ***\n",
       "x_1         1.000e+00  2.768e-09 3.613e+08   <2e-16 ***\n",
       "x_2         9.984e-03  1.995e-05 5.005e+02   <2e-16 ***\n",
       "---\n",
       "Signif. codes:  0 ‘***’ 0.001 ‘**’ 0.01 ‘*’ 0.05 ‘.’ 0.1 ‘ ’ 1\n",
       "\n",
       "Residual standard error: 0.799 on 999996 degrees of freedom\n",
       "Multiple R-squared:      1,\tAdjusted R-squared:      1 \n",
       "F-statistic: 4.352e+16 on 3 and 999996 DF,  p-value: < 2.2e-16\n"
      ]
     },
     "metadata": {},
     "output_type": "display_data"
    }
   ],
   "source": [
    "population_regression<-lm(y~d+x_1+x_2)\n",
    "summary(population_regression)"
   ]
  },
  {
   "cell_type": "code",
   "execution_count": 19,
   "id": "1cb0b9e0",
   "metadata": {},
   "outputs": [],
   "source": [
    "#Finding: The regression produce quite pecise estimators for the true coefficients"
   ]
  },
  {
   "cell_type": "markdown",
   "id": "82bc5912",
   "metadata": {},
   "source": [
    "# 2.1 Increased Standard Errors"
   ]
  },
  {
   "cell_type": "code",
   "execution_count": 20,
   "id": "424a155b",
   "metadata": {},
   "outputs": [],
   "source": [
    "#We select 100 observations as a sample and save them in data_frame_smpl\n",
    "selected_rows_smpl<-sample(nrow(data_frame),100) \n",
    "data_frame_smpl<-data_frame[selected_rows_smpl, ]"
   ]
  },
  {
   "cell_type": "code",
   "execution_count": 21,
   "id": "9b12e27f",
   "metadata": {},
   "outputs": [],
   "source": [
    "#In a first step, we conduct a regression using only three (true) regressors"
   ]
  },
  {
   "cell_type": "code",
   "execution_count": 423,
   "id": "1bea7a90",
   "metadata": {},
   "outputs": [],
   "source": [
    "regression_few_regressors<-lm(y~d+x_1+x_2,data=data_frame_smpl)"
   ]
  },
  {
   "cell_type": "code",
   "execution_count": 380,
   "id": "54d85617",
   "metadata": {
    "scrolled": false
   },
   "outputs": [
    {
     "data": {
      "text/plain": [
       "\n",
       "Call:\n",
       "lm(formula = y ~ d + x_1 + x_2, data = data_frame_smpl)\n",
       "\n",
       "Residuals:\n",
       "     Min       1Q   Median       3Q      Max \n",
       "-2.30620 -0.47993 -0.05383  0.48601  1.66813 \n",
       "\n",
       "Coefficients:\n",
       "             Estimate Std. Error   t value Pr(>|t|)    \n",
       "(Intercept) 1.376e+00  8.023e-01 1.715e+00   0.0896 .  \n",
       "d           9.850e-01  3.543e-02 2.780e+01  < 2e-16 ***\n",
       "x_1         1.000e+00  2.894e-07 3.455e+06  < 2e-16 ***\n",
       "x_2         1.060e-02  1.937e-03 5.476e+00 3.49e-07 ***\n",
       "---\n",
       "Signif. codes:  0 ‘***’ 0.001 ‘**’ 0.01 ‘*’ 0.05 ‘.’ 0.1 ‘ ’ 1\n",
       "\n",
       "Residual standard error: 0.8168 on 96 degrees of freedom\n",
       "Multiple R-squared:      1,\tAdjusted R-squared:      1 \n",
       "F-statistic: 4.069e+12 on 3 and 96 DF,  p-value: < 2.2e-16\n"
      ]
     },
     "metadata": {},
     "output_type": "display_data"
    }
   ],
   "source": [
    "summary(regression_few_regressors)"
   ]
  },
  {
   "cell_type": "code",
   "execution_count": 381,
   "id": "dd3197cb",
   "metadata": {},
   "outputs": [],
   "source": [
    "#In a second step, we conduct a regression using 32 regressors"
   ]
  },
  {
   "cell_type": "code",
   "execution_count": 382,
   "id": "17e65314",
   "metadata": {},
   "outputs": [],
   "source": [
    "regression_many_regressors<-lm(y~d+x_1+x_2+x_3+x_4+x_5+x_6+x_7+x_8+x_9+x_10+x_11+x_12+x_13+x_14+x_15+x_16+x_17+x_18+x_19+x_20+x_21+x_22+x_23+x_24+x_25+x_26+x_27+x_28+x_29+x_30+x_31,data=data_frame_smpl)"
   ]
  },
  {
   "cell_type": "code",
   "execution_count": 383,
   "id": "0cc35f3f",
   "metadata": {
    "scrolled": true
   },
   "outputs": [
    {
     "data": {
      "text/plain": [
       "\n",
       "Call:\n",
       "lm(formula = y ~ d + x_1 + x_2 + x_3 + x_4 + x_5 + x_6 + x_7 + \n",
       "    x_8 + x_9 + x_10 + x_11 + x_12 + x_13 + x_14 + x_15 + x_16 + \n",
       "    x_17 + x_18 + x_19 + x_20 + x_21 + x_22 + x_23 + x_24 + x_25 + \n",
       "    x_26 + x_27 + x_28 + x_29 + x_30 + x_31, data = data_frame_smpl)\n",
       "\n",
       "Residuals:\n",
       "     Min       1Q   Median       3Q      Max \n",
       "-2.29829 -0.42011 -0.04878  0.45031  1.75214 \n",
       "\n",
       "Coefficients: (1 not defined because of singularities)\n",
       "              Estimate Std. Error    t value Pr(>|t|)    \n",
       "(Intercept) -9.442e+00  2.503e+01 -3.770e-01 0.707178    \n",
       "d            9.432e-01  4.839e-02  1.949e+01  < 2e-16 ***\n",
       "x_1          1.000e+00  3.608e-07  2.772e+06  < 2e-16 ***\n",
       "x_2          1.906e-02  4.785e-03  3.984e+00 0.000168 ***\n",
       "x_3          1.244e-01  3.277e-01  3.790e-01 0.705512    \n",
       "x_4          9.960e-02  1.697e-01  5.870e-01 0.559115    \n",
       "x_5         -2.586e-01  3.720e-01 -6.950e-01 0.489438    \n",
       "x_6         -1.897e-01  2.666e-01 -7.120e-01 0.479182    \n",
       "x_7          1.163e+00  2.093e+00  5.560e-01 0.580187    \n",
       "x_8         -4.056e-03  5.300e-03 -7.650e-01 0.446729    \n",
       "x_9          2.144e-02  1.786e-02  1.201e+00 0.233951    \n",
       "x_10         3.682e-02  4.504e-02  8.170e-01 0.416585    \n",
       "x_11         1.391e-01  1.157e-01  1.202e+00 0.233394    \n",
       "x_12         2.677e-03  5.924e-03  4.520e-01 0.652795    \n",
       "x_13         4.779e-04  8.658e-04  5.520e-01 0.582823    \n",
       "x_14         1.171e-02  2.095e-02  5.590e-01 0.577906    \n",
       "x_15        -1.429e-02  5.712e-02 -2.500e-01 0.803224    \n",
       "x_16        -2.964e-02  3.337e-02 -8.880e-01 0.377590    \n",
       "x_17        -2.024e-02  4.368e-02 -4.630e-01 0.644550    \n",
       "x_18        -2.851e-02  2.524e-02 -1.129e+00 0.262736    \n",
       "x_19        -3.509e-03  4.412e-03 -7.950e-01 0.429235    \n",
       "x_20                NA         NA         NA       NA    \n",
       "x_21        -1.907e-02  7.372e-02 -2.590e-01 0.796680    \n",
       "x_22         1.372e-02  1.815e-02  7.560e-01 0.452152    \n",
       "x_23         1.151e-03  2.074e-03  5.550e-01 0.580681    \n",
       "x_24         1.731e-02  3.961e-02  4.370e-01 0.663427    \n",
       "x_25        -6.140e-02  4.117e-02 -1.492e+00 0.140429    \n",
       "x_26        -1.648e-03  2.636e-02 -6.300e-02 0.950324    \n",
       "x_27         2.077e-03  3.685e-03  5.640e-01 0.574860    \n",
       "x_28        -6.420e-03  4.899e-03 -1.310e+00 0.194475    \n",
       "x_29         4.656e-03  6.726e-03  6.920e-01 0.491112    \n",
       "x_30         2.504e-01  4.242e-01  5.900e-01 0.557048    \n",
       "x_31         1.689e-02  3.645e-02  4.630e-01 0.644644    \n",
       "---\n",
       "Signif. codes:  0 ‘***’ 0.001 ‘**’ 0.01 ‘*’ 0.05 ‘.’ 0.1 ‘ ’ 1\n",
       "\n",
       "Residual standard error: 0.8664 on 68 degrees of freedom\n",
       "Multiple R-squared:      1,\tAdjusted R-squared:      1 \n",
       "F-statistic: 3.5e+11 on 31 and 68 DF,  p-value: < 2.2e-16\n"
      ]
     },
     "metadata": {},
     "output_type": "display_data"
    }
   ],
   "source": [
    "summary(regression_many_regressors)"
   ]
  },
  {
   "cell_type": "code",
   "execution_count": 385,
   "id": "cc2c064e",
   "metadata": {},
   "outputs": [],
   "source": [
    "#Result: The standard error of alpha0, the coefficient of d, increases."
   ]
  },
  {
   "cell_type": "code",
   "execution_count": 386,
   "id": "d25ceb61",
   "metadata": {},
   "outputs": [],
   "source": [
    "#This leads the t-value to decrease. "
   ]
  },
  {
   "cell_type": "code",
   "execution_count": 387,
   "id": "07fe374d",
   "metadata": {},
   "outputs": [],
   "source": [
    "#We use the stargazer package in order to generate a table of our findings"
   ]
  },
  {
   "cell_type": "code",
   "execution_count": 388,
   "id": "196f5070",
   "metadata": {},
   "outputs": [
    {
     "name": "stdout",
     "output_type": "stream",
     "text": [
      "\n",
      "The downloaded binary packages are in\n",
      "\t/var/folders/81/prx5h13144gcc7v9m0gcd3c80000gn/T//RtmpxkzoD0/downloaded_packages\n"
     ]
    }
   ],
   "source": [
    "install.packages(\"stargazer\")"
   ]
  },
  {
   "cell_type": "code",
   "execution_count": 389,
   "id": "2e3ca79f",
   "metadata": {
    "scrolled": false
   },
   "outputs": [],
   "source": [
    "library(\"stargazer\")"
   ]
  },
  {
   "cell_type": "code",
   "execution_count": 390,
   "id": "c8af6dcc",
   "metadata": {
    "scrolled": true
   },
   "outputs": [
    {
     "name": "stdout",
     "output_type": "stream",
     "text": [
      "\n",
      "% Table created by stargazer v.5.2.2 by Marek Hlavac, Harvard University. E-mail: hlavac at fas.harvard.edu\n",
      "% Date and time: Wed, Nov 03, 2021 - 20:43:32\n",
      "% Requires LaTeX packages: dcolumn \n",
      "\\begin{table}[!htbp] \\centering \n",
      "  \\caption{Comparision of a model with few and many regressors} \n",
      "  \\label{} \n",
      "\\begin{tabular}{@{\\extracolsep{5pt}}lD{.}{.}{-3} D{.}{.}{-3} } \n",
      "\\\\[-1.8ex]\\hline \n",
      "\\hline \\\\[-1.8ex] \n",
      " & \\multicolumn{2}{c}{\\textit{Dependent variable:}} \\\\ \n",
      "\\cline{2-3} \n",
      "\\\\[-1.8ex] & \\multicolumn{2}{c}{y} \\\\ \n",
      "\\\\[-1.8ex] & \\multicolumn{1}{c}{(1)} & \\multicolumn{1}{c}{(2)}\\\\ \n",
      "\\hline \\\\[-1.8ex] \n",
      " d & 0.985^{***} & 0.943^{***} \\\\ \n",
      "  & (0.035) & (0.048) \\\\ \n",
      "  & & \\\\ \n",
      " x\\_1 & 1.000^{***} & 1.000^{***} \\\\ \n",
      "  & (0.00000) & (0.00000) \\\\ \n",
      "  & & \\\\ \n",
      " x\\_2 & 0.011^{***} & 0.019^{***} \\\\ \n",
      "  & (0.002) & (0.005) \\\\ \n",
      "  & & \\\\ \n",
      " x\\_3 &  & 0.124 \\\\ \n",
      "  &  & (0.328) \\\\ \n",
      "  & & \\\\ \n",
      " x\\_4 &  & 0.100 \\\\ \n",
      "  &  & (0.170) \\\\ \n",
      "  & & \\\\ \n",
      " x\\_5 &  & -0.259 \\\\ \n",
      "  &  & (0.372) \\\\ \n",
      "  & & \\\\ \n",
      " x\\_6 &  & -0.190 \\\\ \n",
      "  &  & (0.267) \\\\ \n",
      "  & & \\\\ \n",
      " x\\_7 &  & 1.163 \\\\ \n",
      "  &  & (2.093) \\\\ \n",
      "  & & \\\\ \n",
      " x\\_8 &  & -0.004 \\\\ \n",
      "  &  & (0.005) \\\\ \n",
      "  & & \\\\ \n",
      " x\\_9 &  & 0.021 \\\\ \n",
      "  &  & (0.018) \\\\ \n",
      "  & & \\\\ \n",
      " x\\_10 &  & 0.037 \\\\ \n",
      "  &  & (0.045) \\\\ \n",
      "  & & \\\\ \n",
      " x\\_11 &  & 0.139 \\\\ \n",
      "  &  & (0.116) \\\\ \n",
      "  & & \\\\ \n",
      " x\\_12 &  & 0.003 \\\\ \n",
      "  &  & (0.006) \\\\ \n",
      "  & & \\\\ \n",
      " x\\_13 &  & 0.0005 \\\\ \n",
      "  &  & (0.001) \\\\ \n",
      "  & & \\\\ \n",
      " x\\_14 &  & 0.012 \\\\ \n",
      "  &  & (0.021) \\\\ \n",
      "  & & \\\\ \n",
      " x\\_15 &  & -0.014 \\\\ \n",
      "  &  & (0.057) \\\\ \n",
      "  & & \\\\ \n",
      " x\\_16 &  & -0.030 \\\\ \n",
      "  &  & (0.033) \\\\ \n",
      "  & & \\\\ \n",
      " x\\_17 &  & -0.020 \\\\ \n",
      "  &  & (0.044) \\\\ \n",
      "  & & \\\\ \n",
      " x\\_18 &  & -0.029 \\\\ \n",
      "  &  & (0.025) \\\\ \n",
      "  & & \\\\ \n",
      " x\\_19 &  & -0.004 \\\\ \n",
      "  &  & (0.004) \\\\ \n",
      "  & & \\\\ \n",
      " x\\_20 &  &  \\\\ \n",
      "  &  &  \\\\ \n",
      "  & & \\\\ \n",
      " x\\_21 &  & -0.019 \\\\ \n",
      "  &  & (0.074) \\\\ \n",
      "  & & \\\\ \n",
      " x\\_22 &  & 0.014 \\\\ \n",
      "  &  & (0.018) \\\\ \n",
      "  & & \\\\ \n",
      " x\\_23 &  & 0.001 \\\\ \n",
      "  &  & (0.002) \\\\ \n",
      "  & & \\\\ \n",
      " x\\_24 &  & 0.017 \\\\ \n",
      "  &  & (0.040) \\\\ \n",
      "  & & \\\\ \n",
      " x\\_25 &  & -0.061 \\\\ \n",
      "  &  & (0.041) \\\\ \n",
      "  & & \\\\ \n",
      " x\\_26 &  & -0.002 \\\\ \n",
      "  &  & (0.026) \\\\ \n",
      "  & & \\\\ \n",
      " x\\_27 &  & 0.002 \\\\ \n",
      "  &  & (0.004) \\\\ \n",
      "  & & \\\\ \n",
      " x\\_28 &  & -0.006 \\\\ \n",
      "  &  & (0.005) \\\\ \n",
      "  & & \\\\ \n",
      " x\\_29 &  & 0.005 \\\\ \n",
      "  &  & (0.007) \\\\ \n",
      "  & & \\\\ \n",
      " x\\_30 &  & 0.250 \\\\ \n",
      "  &  & (0.424) \\\\ \n",
      "  & & \\\\ \n",
      " x\\_31 &  & 0.017 \\\\ \n",
      "  &  & (0.036) \\\\ \n",
      "  & & \\\\ \n",
      " Constant & 1.376^{*} & -9.442 \\\\ \n",
      "  & (0.802) & (25.030) \\\\ \n",
      "  & & \\\\ \n",
      "\\hline \\\\[-1.8ex] \n",
      "Observations & \\multicolumn{1}{c}{100} & \\multicolumn{1}{c}{100} \\\\ \n",
      "R$^{2}$ & \\multicolumn{1}{c}{1.000} & \\multicolumn{1}{c}{1.000} \\\\ \n",
      "Adjusted R$^{2}$ & \\multicolumn{1}{c}{1.000} & \\multicolumn{1}{c}{1.000} \\\\ \n",
      "Residual Std. Error & \\multicolumn{1}{c}{0.817 (df = 96)} & \\multicolumn{1}{c}{0.866 (df = 68)} \\\\ \n",
      "F Statistic & \\multicolumn{1}{c}{4,068,698,099,184.000$^{***}$ (df = 3; 96)} & \\multicolumn{1}{c}{349,974,796,100.000$^{***}$ (df = 31; 68)} \\\\ \n",
      "\\hline \n",
      "\\hline \\\\[-1.8ex] \n",
      "\\textit{Note:}  & \\multicolumn{2}{r}{$^{*}$p$<$0.1; $^{**}$p$<$0.05; $^{***}$p$<$0.01} \\\\ \n",
      "\\end{tabular} \n",
      "\\end{table} \n"
     ]
    }
   ],
   "source": [
    "stargazer(regression_few_regressors, regression_many_regressors, title=\"Comparision of a model with few and many regressors\", align=TRUE)"
   ]
  },
  {
   "cell_type": "code",
   "execution_count": 391,
   "id": "3df7ce93",
   "metadata": {},
   "outputs": [],
   "source": [
    "#Wooldridge (2018) provides on p.94 an indirect explanation, why standard errors increase, if more variables are added to the model. "
   ]
  },
  {
   "cell_type": "code",
   "execution_count": 392,
   "id": "c4b712b7",
   "metadata": {},
   "outputs": [],
   "source": [
    "#Now we regress d on x_1 and x_2"
   ]
  },
  {
   "cell_type": "code",
   "execution_count": 393,
   "id": "bda78dcc",
   "metadata": {},
   "outputs": [],
   "source": [
    "regression_wool_form_small_model<-lm(d~x_1+x_2)"
   ]
  },
  {
   "cell_type": "code",
   "execution_count": 394,
   "id": "d4053358",
   "metadata": {
    "scrolled": true
   },
   "outputs": [
    {
     "data": {
      "text/plain": [
       "\n",
       "Call:\n",
       "lm(formula = d ~ x_1 + x_2)\n",
       "\n",
       "Residuals:\n",
       "     Min       1Q   Median       3Q      Max \n",
       "-10.7044  -1.5439   0.0007   1.5473  11.4756 \n",
       "\n",
       "Coefficients:\n",
       "              Estimate Std. Error  t value Pr(>|t|)    \n",
       "(Intercept)  4.082e+00  2.303e-02  177.290   <2e-16 ***\n",
       "x_1         -8.036e-09  7.949e-09   -1.011    0.312    \n",
       "x_2          5.577e-02  1.312e-05 4250.242   <2e-16 ***\n",
       "---\n",
       "Signif. codes:  0 ‘***’ 0.001 ‘**’ 0.01 ‘*’ 0.05 ‘.’ 0.1 ‘ ’ 1\n",
       "\n",
       "Residual standard error: 2.295 on 999997 degrees of freedom\n",
       "Multiple R-squared:  0.9475,\tAdjusted R-squared:  0.9475 \n",
       "F-statistic: 9.032e+06 on 2 and 999997 DF,  p-value: < 2.2e-16\n"
      ]
     },
     "metadata": {},
     "output_type": "display_data"
    }
   ],
   "source": [
    "summary(regression_wool_form_small_model)"
   ]
  },
  {
   "cell_type": "code",
   "execution_count": 395,
   "id": "e0f001b5",
   "metadata": {},
   "outputs": [],
   "source": [
    "#Analogously we regress d on x_1,...,x-32"
   ]
  },
  {
   "cell_type": "code",
   "execution_count": 396,
   "id": "cad33727",
   "metadata": {},
   "outputs": [],
   "source": [
    "regression_wool_form_large_model<-lm(d~x_1+x_2+x_3+x_4+x_5+x_6+x_7+x_8+x_9+x_10+x_11+x_12+x_13+x_14+x_15+x_16+x_17+x_18+x_19+x_20+x_21+x_22+x_23+x_24+x_25+x_26+x_27+x_28+x_29+x_30+x_31,data=data_frame_smpl)"
   ]
  },
  {
   "cell_type": "code",
   "execution_count": 397,
   "id": "80452673",
   "metadata": {
    "scrolled": true
   },
   "outputs": [
    {
     "data": {
      "text/plain": [
       "\n",
       "Call:\n",
       "lm(formula = d ~ x_1 + x_2 + x_3 + x_4 + x_5 + x_6 + x_7 + x_8 + \n",
       "    x_9 + x_10 + x_11 + x_12 + x_13 + x_14 + x_15 + x_16 + x_17 + \n",
       "    x_18 + x_19 + x_20 + x_21 + x_22 + x_23 + x_24 + x_25 + x_26 + \n",
       "    x_27 + x_28 + x_29 + x_30 + x_31, data = data_frame_smpl)\n",
       "\n",
       "Residuals:\n",
       "    Min      1Q  Median      3Q     Max \n",
       "-4.9578 -0.9678 -0.1458  0.8325  5.8328 \n",
       "\n",
       "Coefficients: (1 not defined because of singularities)\n",
       "              Estimate Std. Error t value Pr(>|t|)    \n",
       "(Intercept) -2.022e+02  5.732e+01  -3.529 0.000748 ***\n",
       "x_1         -5.976e-07  8.948e-07  -0.668 0.506453    \n",
       "x_2          4.758e-02  1.044e-02   4.559 2.17e-05 ***\n",
       "x_3          2.220e+00  7.703e-01   2.882 0.005268 ** \n",
       "x_4          2.896e-01  4.207e-01   0.689 0.493422    \n",
       "x_5          8.622e-01  9.197e-01   0.937 0.351779    \n",
       "x_6          5.658e-01  6.598e-01   0.858 0.394121    \n",
       "x_7          1.644e+01  4.815e+00   3.414 0.001076 ** \n",
       "x_8          1.080e-02  1.312e-02   0.823 0.413229    \n",
       "x_9         -2.195e-02  4.435e-02  -0.495 0.622205    \n",
       "x_10         2.124e-01  1.091e-01   1.947 0.055608 .  \n",
       "x_11         2.830e-01  2.858e-01   0.990 0.325614    \n",
       "x_12        -5.013e-03  1.473e-02  -0.340 0.734592    \n",
       "x_13         1.877e-03  2.142e-03   0.876 0.384080    \n",
       "x_14        -1.591e-02  5.208e-02  -0.306 0.760884    \n",
       "x_15        -3.814e-01  1.345e-01  -2.836 0.005992 ** \n",
       "x_16        -9.023e-02  8.231e-02  -1.096 0.276763    \n",
       "x_17         1.004e-01  1.080e-01   0.930 0.355715    \n",
       "x_18        -1.941e-02  6.276e-02  -0.309 0.758085    \n",
       "x_19         7.797e-03  1.094e-02   0.713 0.478331    \n",
       "x_20                NA         NA      NA       NA    \n",
       "x_21         3.386e-01  1.788e-01   1.894 0.062464 .  \n",
       "x_22        -3.615e-02  4.494e-02  -0.804 0.423931    \n",
       "x_23         7.759e-03  5.074e-03   1.529 0.130770    \n",
       "x_24         2.348e-01  9.441e-02   2.487 0.015320 *  \n",
       "x_25         5.847e-02  1.022e-01   0.572 0.568998    \n",
       "x_26         1.016e-01  6.444e-02   1.577 0.119433    \n",
       "x_27        -7.142e-03  9.128e-03  -0.782 0.436626    \n",
       "x_28        -9.729e-03  1.213e-02  -0.802 0.425353    \n",
       "x_29         9.571e-03  1.669e-02   0.573 0.568270    \n",
       "x_30         7.274e-01  1.052e+00   0.692 0.491527    \n",
       "x_31        -2.156e-02  9.065e-02  -0.238 0.812738    \n",
       "---\n",
       "Signif. codes:  0 ‘***’ 0.001 ‘**’ 0.01 ‘*’ 0.05 ‘.’ 0.1 ‘ ’ 1\n",
       "\n",
       "Residual standard error: 2.155 on 69 degrees of freedom\n",
       "Multiple R-squared:  0.9704,\tAdjusted R-squared:  0.9575 \n",
       "F-statistic: 75.36 on 30 and 69 DF,  p-value: < 2.2e-16\n"
      ]
     },
     "metadata": {},
     "output_type": "display_data"
    }
   ],
   "source": [
    "summary(regression_wool_form_large_model)"
   ]
  },
  {
   "cell_type": "code",
   "execution_count": 398,
   "id": "d1e5bb44",
   "metadata": {},
   "outputs": [],
   "source": [
    "#We find that R^2 of the regression of d increases, once more variables are part of the model"
   ]
  },
  {
   "cell_type": "code",
   "execution_count": null,
   "id": "f70da67e",
   "metadata": {},
   "outputs": [],
   "source": [
    "#This leads to an increased standard error of alpha0"
   ]
  },
  {
   "cell_type": "markdown",
   "id": "596c072a",
   "metadata": {},
   "source": [
    "# 2.2  Imprecise Predictions"
   ]
  },
  {
   "cell_type": "code",
   "execution_count": null,
   "id": "d0590179",
   "metadata": {},
   "outputs": [],
   "source": [
    "#See seminar paper"
   ]
  },
  {
   "cell_type": "markdown",
   "id": "8a7deafe",
   "metadata": {},
   "source": [
    "# 3. LASSO"
   ]
  },
  {
   "cell_type": "markdown",
   "id": "28ddb545",
   "metadata": {},
   "source": [
    "# 3.1 The Need for Dimension Reduction in High-Dimensional Settings"
   ]
  },
  {
   "cell_type": "code",
   "execution_count": 106,
   "id": "d70ad1f0",
   "metadata": {},
   "outputs": [],
   "source": [
    "#See seminar paper. "
   ]
  },
  {
   "cell_type": "markdown",
   "id": "6a3615f9",
   "metadata": {},
   "source": [
    "# 3.2 LASSO as a Model Selection Technique"
   ]
  },
  {
   "cell_type": "code",
   "execution_count": 25,
   "id": "d9ddb7c1",
   "metadata": {},
   "outputs": [
    {
     "name": "stdout",
     "output_type": "stream",
     "text": [
      "\n",
      "The downloaded binary packages are in\n",
      "\t/var/folders/81/prx5h13144gcc7v9m0gcd3c80000gn/T//Rtmp4mRgw7/downloaded_packages\n"
     ]
    }
   ],
   "source": [
    "install.packages(\"glmnet\") #In order to use LASSO the package glmnet is necessary"
   ]
  },
  {
   "cell_type": "code",
   "execution_count": 37,
   "id": "995881f7",
   "metadata": {},
   "outputs": [],
   "source": [
    "library(\"glmnet\") #The package glmnet is loaded"
   ]
  },
  {
   "cell_type": "code",
   "execution_count": 38,
   "id": "9e5335af",
   "metadata": {},
   "outputs": [],
   "source": [
    "regressand_lasso<-data_frame[,1] #We specify the regressand, while using the whole population"
   ]
  },
  {
   "cell_type": "code",
   "execution_count": 39,
   "id": "439b259e",
   "metadata": {},
   "outputs": [],
   "source": [
    "regressors_lasso<-data_frame[,-1] #We specify the regressors, while using the whole population"
   ]
  },
  {
   "cell_type": "code",
   "execution_count": 53,
   "id": "554007ba",
   "metadata": {},
   "outputs": [],
   "source": [
    "#The penalty term helps us to force d into the model. This is necessary, as we are generally interested in the coefficient alpha0"
   ]
  },
  {
   "cell_type": "code",
   "execution_count": null,
   "id": "6b35cba9",
   "metadata": {},
   "outputs": [],
   "source": [
    "#The leading 0, ensures that the coefficient of d is not punished at all"
   ]
  },
  {
   "cell_type": "code",
   "execution_count": 40,
   "id": "0faf5e9b",
   "metadata": {},
   "outputs": [],
   "source": [
    "penalty<-c(0,1,1,1,1,1,1,1,1,1,1,1,1,1,1,1,1,1,1,1,1,1,1,1,1,1,1,1,1,1,1,1)"
   ]
  },
  {
   "cell_type": "code",
   "execution_count": 54,
   "id": "03c2721e",
   "metadata": {},
   "outputs": [],
   "source": [
    "#We calculate the model using glmnet"
   ]
  },
  {
   "cell_type": "code",
   "execution_count": 60,
   "id": "8d1ac2c2",
   "metadata": {},
   "outputs": [],
   "source": [
    "fit<-glmnet(regressors_lasso,regressand_lasso,penalty.factor=penalty)"
   ]
  },
  {
   "cell_type": "code",
   "execution_count": 61,
   "id": "efc40f2b",
   "metadata": {},
   "outputs": [],
   "source": [
    "#We try to find the optimal lambda, by conducting a 10-fold cross-validation"
   ]
  },
  {
   "cell_type": "code",
   "execution_count": 62,
   "id": "ba0063cf",
   "metadata": {},
   "outputs": [],
   "source": [
    "lambda<-cv.glmnet(as.matrix(regressors_lasso),as.matrix(regressand_lasso))"
   ]
  },
  {
   "cell_type": "code",
   "execution_count": 63,
   "id": "a2698347",
   "metadata": {
    "scrolled": true
   },
   "outputs": [
    {
     "data": {
      "text/html": [
       "8415.033729978"
      ],
      "text/latex": [
       "8415.033729978"
      ],
      "text/markdown": [
       "8415.033729978"
      ],
      "text/plain": [
       "[1] 8415.034"
      ]
     },
     "metadata": {},
     "output_type": "display_data"
    }
   ],
   "source": [
    "lambda$lambda.min"
   ]
  },
  {
   "cell_type": "code",
   "execution_count": 64,
   "id": "b3f5f945",
   "metadata": {},
   "outputs": [],
   "source": [
    "#In the last step of our application of LASSO, we display the coefficients based on LASSO"
   ]
  },
  {
   "cell_type": "code",
   "execution_count": 65,
   "id": "cc61f8d2",
   "metadata": {
    "scrolled": true
   },
   "outputs": [
    {
     "data": {
      "text/plain": [
       "33 x 1 sparse Matrix of class \"dgCMatrix\"\n",
       "                      s1\n",
       "(Intercept) 1.497007e+04\n",
       "d           1.935983e+00\n",
       "x_1         9.699091e-01\n",
       "x_2         .           \n",
       "x_3         .           \n",
       "x_4         .           \n",
       "x_5         .           \n",
       "x_6         .           \n",
       "x_7         .           \n",
       "x_8         .           \n",
       "x_9         .           \n",
       "x_10        .           \n",
       "x_11        .           \n",
       "x_12        .           \n",
       "x_13        .           \n",
       "x_14        .           \n",
       "x_15        .           \n",
       "x_16        .           \n",
       "x_17        .           \n",
       "x_18        .           \n",
       "x_19        .           \n",
       "x_20        .           \n",
       "x_21        .           \n",
       "x_22        .           \n",
       "x_23        .           \n",
       "x_24        .           \n",
       "x_25        .           \n",
       "x_26        .           \n",
       "x_27        .           \n",
       "x_28        .           \n",
       "x_29        .           \n",
       "x_30        .           \n",
       "x_31        .           "
      ]
     },
     "metadata": {},
     "output_type": "display_data"
    }
   ],
   "source": [
    "coef(fit,lambda$lambda.min)"
   ]
  },
  {
   "cell_type": "markdown",
   "id": "c6132b3c",
   "metadata": {},
   "source": [
    "# 4. Omitted variable bias"
   ]
  },
  {
   "cell_type": "code",
   "execution_count": 73,
   "id": "a37cdf3a",
   "metadata": {},
   "outputs": [],
   "source": [
    "regression_lasso_recommend<-lm(y~d+x_1)"
   ]
  },
  {
   "cell_type": "code",
   "execution_count": 74,
   "id": "ef7ca0bf",
   "metadata": {},
   "outputs": [
    {
     "data": {
      "text/plain": [
       "\n",
       "Call:\n",
       "lm(formula = y ~ d + x_1)\n",
       "\n",
       "Residuals:\n",
       "    Min      1Q  Median      3Q     Max \n",
       "-4.4130 -0.6021 -0.0002  0.6020  4.2445 \n",
       "\n",
       "Coefficients:\n",
       "             Estimate Std. Error   t value Pr(>|t|)    \n",
       "(Intercept) 1.215e+00  9.093e-03 1.336e+02   <2e-16 ***\n",
       "d           1.170e+00  8.917e-05 1.312e+04   <2e-16 ***\n",
       "x_1         1.000e+00  3.095e-09 3.231e+08   <2e-16 ***\n",
       "---\n",
       "Signif. codes:  0 ‘***’ 0.001 ‘**’ 0.01 ‘*’ 0.05 ‘.’ 0.1 ‘ ’ 1\n",
       "\n",
       "Residual standard error: 0.8934 on 999997 degrees of freedom\n",
       "Multiple R-squared:      1,\tAdjusted R-squared:      1 \n",
       "F-statistic: 5.22e+16 on 2 and 999997 DF,  p-value: < 2.2e-16\n"
      ]
     },
     "metadata": {},
     "output_type": "display_data"
    }
   ],
   "source": [
    "summary(regression_lasso_recommend)"
   ]
  },
  {
   "cell_type": "code",
   "execution_count": 71,
   "id": "534cd669",
   "metadata": {},
   "outputs": [],
   "source": [
    "#See seminar paper"
   ]
  },
  {
   "cell_type": "markdown",
   "id": "5cab0ba7",
   "metadata": {},
   "source": [
    "# 5. Post-Double-Selection"
   ]
  },
  {
   "cell_type": "markdown",
   "id": "26d7e41e",
   "metadata": {},
   "source": [
    "# 5.1 Procedure "
   ]
  },
  {
   "cell_type": "code",
   "execution_count": 107,
   "id": "9f140c08",
   "metadata": {},
   "outputs": [],
   "source": [
    "#See seminar paper "
   ]
  },
  {
   "cell_type": "markdown",
   "id": "7b438558",
   "metadata": {},
   "source": [
    "# 5.2 Simulation"
   ]
  },
  {
   "cell_type": "markdown",
   "id": "2e991d0e",
   "metadata": {},
   "source": [
    "# Monte-Carlo-Simulation of Post-Double-Selection"
   ]
  },
  {
   "cell_type": "code",
   "execution_count": 78,
   "id": "d2584c42",
   "metadata": {},
   "outputs": [],
   "source": [
    "#We create a list, where we can save all the alpha_0 values retrieved from the Monte-Carlo-Simulation\n",
    "alpha0_mc_pds<-list() #alpha0 is the coefficient of interest, mc stands for Monte-Carlo and pds for post-double selection\n",
    "\n",
    "for(j in 1:100){\n",
    "    \n",
    "    \n",
    "    #We build a sample\n",
    "    selected_rows_smpl<-sample(nrow(data_frame),30)\n",
    "    data_frame_smpl<-data_frame[selected_rows_smpl, ]\n",
    "    \n",
    "    #We select d to be our depending variable\n",
    "    regressand_lasso_s1<-data_frame[,2]\n",
    "    #We select x_1, ..., x_31 to be our regressors. \n",
    "    drops <- c(\"d\",\"y\")\n",
    "    regressors_lasso_s1<-data_frame[, !(names(data_frame) %in% drops)]\n",
    "    \n",
    "    #The structure of the penalty indicates, that we do not force LASSO to include certain variables\n",
    "    penalty_s1<-c(1,1,1,1,1,1,1,1,1,1,1,1,1,1,1,1,1,1,1,1,1,1,1,1,1,1,1,1,1,1,1)\n",
    "    \n",
    "    #We perform LASSO using the minimum value for lambda\n",
    "    fit_s1<-glmnet(regressors_lasso_s1^2,regressand_lasso_s1, family=\"gaussian\", penalty.factor=penalty_s1)\n",
    "    lambda_s1<-cv.glmnet(as.matrix(regressors_lasso_s1),as.matrix(regressand_lasso_s1)) #Lambda is found via cross-validation and minimizing the MSPE\n",
    "    coef(fit_s1,lambda_s1$lambda.min)\n",
    "    selected_coeffs_s1<-list()\n",
    "    \n",
    "    #We have retrieved the information, what covariates to include in a regression (based on step1)\n",
    "    #We now save them in a list\n",
    "    \n",
    "    coef_matrix_s1<-as.matrix(coef(fit_s1,lambda_s1$lambda.min))\n",
    "    selected_coeffs_s1<-list()\n",
    "    for (row in 1:nrow(coef_matrix_s1)){\n",
    "    \n",
    "        if(coef_matrix_s1[row,1]!=0){\n",
    "        selected_coeffs_s1[[row]]<-rownames(coef_matrix_s1)[row]\n",
    "            }\n",
    "    }   \n",
    "    \n",
    "    #Step 2\n",
    "    \n",
    "    #We select y as the dependent variable\n",
    "    regressand_lasso_smpl<-data_frame_smpl[,1]\n",
    "    #We select d,x_1,..., x_31 as the independet variables\n",
    "    regressors_lasso_smpl<-data_frame_smpl[,-1]\n",
    "    \n",
    "    \n",
    "    #We create the penalty in a way, that d is always part of the sample\n",
    "    penalty<-c(0,1,1,1,1,1,1,1,1,1,1,1,1,1,1,1,1,1,1,1,1,1,1,1,1,1,1,1,1,1,1,1)\n",
    "    \n",
    "    #We perform lasso using a minimum value for lambda\n",
    "    fit_smpl<-glmnet(regressors_lasso_smpl,regressand_lasso_smpl,family=\"gaussian\",penalty.factor=penalty)\n",
    "    lambda_smpl<-cv.glmnet(as.matrix(regressors_lasso_smpl),as.matrix(regressand_lasso_smpl))\n",
    "    coef_matrix_s2<-as.matrix(coef(fit_smpl,lambda_smpl$lambda.min))\n",
    "    \n",
    "    #We retrieve the coefficients that matter for predicting y and save them in a list\n",
    "    \n",
    "    selected_coeffs<-list()\n",
    "    for (row in 1:nrow(coef_matrix_s2)){\n",
    "        if(coef_matrix_s2[row,1]!=0){\n",
    "        selected_coeffs[[row]]<-rownames(coef_matrix_s2)[row]\n",
    "        }    \n",
    "    }\n",
    "    \n",
    "    coeffs_s1_s2<-append(selected_coeffs_s1, selected_coeffs)\n",
    "    \n",
    "    final_coeffs<-coeffs_s1_s2[!duplicated(coeffs_s1_s2)] #Remove duplicates\n",
    "    \n",
    "    tmp_reg_str_smpl<-\"regression_post_lasso_smpl<-lm(y ~ d\"\n",
    "for (coefficient in final_coeffs){\n",
    "    if(all(!is.null(coefficient),!as.character(coefficient)==\"(Intercept)\",!as.character(coefficient)==\"d\")){\n",
    "        tmp_reg_str_smpl<-paste(tmp_reg_str_smpl,\"+\",coefficient)\n",
    "\n",
    "    }\n",
    "    \n",
    "                                    }\n",
    "    #Step 3 - Conduct a regression based on all identified regressors.\n",
    "fin_reg_str_smpl<-paste(tmp_reg_str_smpl,\",data=data_frame_smpl)\")\n",
    "regression_post_lasso_smpl<-eval(parse(text=fin_reg_str_smpl))\n",
    "eval(parse(text=gsub(\" \",\"\",paste(\"alpha0_obs\",j,\"<-regression_post_lasso_smpl$coefficients[2]\"))))\n",
    "eval(parse(text=gsub(\" \",\"\",paste(\"alpha0_mc_pds[[j]]<-alpha0_obs\",j))))\n",
    "}"
   ]
  },
  {
   "cell_type": "code",
   "execution_count": 85,
   "id": "0f233981",
   "metadata": {
    "scrolled": true
   },
   "outputs": [
    {
     "data": {
      "image/png": "[encoded data removed]",
      "text/plain": [
       "Plot with title “Histogram of as.numeric(alpha0_mc_pds)”"
      ]
     },
     "metadata": {
      "image/png": {
       "height": 420,
       "width": 420
      }
     },
     "output_type": "display_data"
    }
   ],
   "source": [
    "hist(as.numeric(alpha0_mc_pds),breaks=20,xlab=\"Estimate of alpha_0 using PDS\")"
   ]
  },
  {
   "cell_type": "code",
   "execution_count": 102,
   "id": "bf66f01b",
   "metadata": {},
   "outputs": [
    {
     "data": {
      "text/html": [
       "1.00306907146216"
      ],
      "text/latex": [
       "1.00306907146216"
      ],
      "text/markdown": [
       "1.00306907146216"
      ],
      "text/plain": [
       "[1] 1.003069"
      ]
     },
     "metadata": {},
     "output_type": "display_data"
    }
   ],
   "source": [
    "mean(as.numeric(alpha0_mc_pds))"
   ]
  },
  {
   "cell_type": "markdown",
   "id": "62c26eb1",
   "metadata": {},
   "source": [
    "# Monte-Carlo-Simulation of Post-Single Selection"
   ]
  },
  {
   "cell_type": "code",
   "execution_count": 230,
   "id": "a37062cc",
   "metadata": {},
   "outputs": [],
   "source": [
    "#Now we start with the Monte-Carlo-Simulation"
   ]
  },
  {
   "cell_type": "code",
   "execution_count": 87,
   "id": "de3b25a2",
   "metadata": {
    "scrolled": true
   },
   "outputs": [],
   "source": [
    "#We create a list, where we can save all the alpha_0 values retrieved from the Monte-Carlo-Simulation\n",
    "alpha0_mc_pss<-list()\n",
    "\n",
    "for(j in 1:100){\n",
    "        \n",
    "    selected_rows_smpl<-sample(nrow(data_frame),30)\n",
    "    data_frame_smpl<-data_frame[selected_rows_smpl, ]\n",
    "    \n",
    "    #We define the input vor LASSO\n",
    "    regressand_lasso_smpl<-data_frame_smpl[,1]\n",
    "    regressors_lasso_smpl<-data_frame_smpl[,-1]\n",
    "    #We define a penalty term for LASSO and specifiy, that d needs to included in any case\n",
    "    \n",
    "    penalty<-c(0,1,1,1,1,1,1,1,1,1,1,1,1,1,1,1,1,1,1,1,1,1,1,1,1,1,1,1,1,1,1,1)\n",
    "    fit_smpl<-glmnet(regressors_lasso_smpl,regressand_lasso_smpl,family=\"gaussian\",penalty.factor=penalty)\n",
    "    \n",
    "    #We perform a cross-validation to determine the optimal value of lambda (minimizing MSPE)\n",
    "    lambda_smpl<-cv.glmnet(as.matrix(regressors_lasso_smpl),as.matrix(regressand_lasso_smpl))\n",
    "    coef_matrix_smpl<-as.matrix(coef(fit_smpl,lambda_smpl$lambda.min))\n",
    "       \n",
    "    #We retrieve the coefficients that matter for predicting y and save them in a list\n",
    "    \n",
    "    selected_coeffs<-list()\n",
    "    for (row in 1:nrow(coef_matrix_smpl)){\n",
    "        if(coef_matrix_smpl[row,1]!=0){\n",
    "        selected_coeffs[[row]]<-rownames(coef_matrix_smpl)[row]\n",
    "        }    \n",
    "    }\n",
    "    \n",
    "    #We build the final regression model as a string \n",
    "    tmp_reg_str_smpl<-\"regression_post_lasso_smpl<-lm(y ~ d\"\n",
    "for (coefficient in selected_coeffs){\n",
    "    if(all(!is.null(coefficient),!as.character(coefficient)==\"(Intercept)\",!as.character(coefficient)==\"d\")){\n",
    "        tmp_reg_str_smpl<-paste(tmp_reg_str_smpl,\"+\",coefficient)\n",
    "\n",
    "    }\n",
    "    \n",
    "                                    }\n",
    "fin_reg_str_smpl<-paste(tmp_reg_str_smpl,\",data=data_frame_smpl)\")\n",
    "    \n",
    "    #Step 3:\n",
    "    #We evaluate the string of the final regression model as an expression\n",
    "regression_post_lasso_smpl<-eval(parse(text=fin_reg_str_smpl))\n",
    "eval(parse(text=gsub(\" \",\"\",paste(\"alpha0_obs\",j,\"<-regression_post_lasso_smpl$coefficients[2]\"))))\n",
    "    \n",
    "eval(parse(text=gsub(\" \",\"\",paste(\"alpha0_mc_pss[[j]]<-alpha0_obs\",j))))\n",
    "}"
   ]
  },
  {
   "cell_type": "code",
   "execution_count": 103,
   "id": "cf9c7c0b",
   "metadata": {
    "scrolled": false
   },
   "outputs": [
    {
     "data": {
      "image/png": "[encoded data removed]",
      "text/plain": [
       "Plot with title “Histogram of as.numeric(alpha0_mc_pss)”"
      ]
     },
     "metadata": {
      "image/png": {
       "height": 420,
       "width": 420
      }
     },
     "output_type": "display_data"
    }
   ],
   "source": [
    "hist(as.numeric(alpha0_mc_pss),breaks=20,xlab=\"Estimate of alpha_0 using PSS\")"
   ]
  },
  {
   "cell_type": "code",
   "execution_count": 104,
   "id": "8ca19724",
   "metadata": {},
   "outputs": [
    {
     "data": {
      "text/html": [
       "1.17047623528535"
      ],
      "text/latex": [
       "1.17047623528535"
      ],
      "text/markdown": [
       "1.17047623528535"
      ],
      "text/plain": [
       "[1] 1.170476"
      ]
     },
     "metadata": {},
     "output_type": "display_data"
    }
   ],
   "source": [
    "mean(as.numeric(alpha0_mc_pss))"
   ]
  },
  {
   "cell_type": "markdown",
   "id": "d6125aa2",
   "metadata": {},
   "source": [
    "# 6. Application of PDS on Dale and Krueger (2002)"
   ]
  },
  {
   "cell_type": "code",
   "execution_count": 92,
   "id": "c689907d",
   "metadata": {},
   "outputs": [],
   "source": [
    "#See seminar paper"
   ]
  },
  {
   "cell_type": "markdown",
   "id": "47b5cdfe",
   "metadata": {},
   "source": [
    "# 7. Conclusion"
   ]
  },
  {
   "cell_type": "code",
   "execution_count": null,
   "id": "258955d5",
   "metadata": {},
   "outputs": [],
   "source": [
    "#See seminar paper"
   ]
  }
 ],
 "metadata": {
  "kernelspec": {
   "display_name": "R",
   "language": "R",
   "name": "ir"
  },
  "language_info": {
   "codemirror_mode": "r",
   "file_extension": ".r",
   "mimetype": "text/x-r-source",
   "name": "R",
   "pygments_lexer": "r",
   "version": "4.1.0"
  }
 },
 "nbformat": 4,
 "nbformat_minor": 5
}
